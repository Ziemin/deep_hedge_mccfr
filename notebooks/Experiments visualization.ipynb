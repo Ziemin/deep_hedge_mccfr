{
 "cells": [
  {
   "cell_type": "code",
   "execution_count": null,
   "metadata": {},
   "outputs": [],
   "source": [
    "import os\n",
    "import json\n",
    "import pandas as pd\n",
    "import numpy as np\n",
    "from pathlib import Path\n",
    "from datetime import datetime\n",
    "import plotly.graph_objects as go\n",
    "import matplotlib\n",
    "from matplotlib import pyplot as plt\n",
    "import matplotlib.dates as mdates"
   ]
  },
  {
   "cell_type": "code",
   "execution_count": null,
   "metadata": {},
   "outputs": [],
   "source": [
    "def get_experiments_df(path: Path) -> pd.DataFrame:\n",
    "    experiments_data = []\n",
    "    for root_dir in path.iterdir():\n",
    "        if not root_dir.is_dir():\n",
    "            continue\n",
    "        for exp_dir in root_dir.iterdir():\n",
    "            if not exp_dir.is_dir():\n",
    "                continue\n",
    "            with open(exp_dir / 'config.json', 'r') as f:\n",
    "                exp_config = json.load(f)\n",
    "\n",
    "            with open(exp_dir / 'stats.json', 'r') as f:\n",
    "                exp_stats = json.load(f)\n",
    "            stats_df = pd.DataFrame(exp_stats)\n",
    "            stats_df.time = pd.to_datetime(stats_df.time, format='%Y-%m-%d_%H-%M-%S')\n",
    "            stats_df.time = stats_df.time - stats_df.time.iloc[0]\n",
    "            \n",
    "            data = {\n",
    "                'name': root_dir.name,\n",
    "                'start_time': datetime.strptime(exp_dir.name, '%Y-%m-%d_%H-%M-%S'),\n",
    "                'game_name': exp_config['game']['name'],\n",
    "                'players': exp_config['game']['params']['players'],\n",
    "            }\n",
    "            data.update(exp_config['networks'])\n",
    "            data.update(exp_config['spec'])\n",
    "            data['stats'] = stats_df\n",
    "\n",
    "            experiments_data.append(data)\n",
    "        \n",
    "    return pd.DataFrame(experiments_data)"
   ]
  },
  {
   "cell_type": "code",
   "execution_count": null,
   "metadata": {},
   "outputs": [],
   "source": [
    "EXPERIMENTS_DIR = Path('../experiments/')\n",
    "exp_df = get_experiments_df(EXPERIMENTS_DIR)"
   ]
  },
  {
   "cell_type": "code",
   "execution_count": null,
   "metadata": {},
   "outputs": [],
   "source": [
    "exp_df"
   ]
  },
  {
   "cell_type": "code",
   "execution_count": null,
   "metadata": {},
   "outputs": [],
   "source": []
  },
  {
   "cell_type": "code",
   "execution_count": null,
   "metadata": {},
   "outputs": [],
   "source": [
    "def get_dynamics_graph(experiment_name: str, stats_df: pd.DataFrame) -> go.Figure:\n",
    "    fig = go.Figure()\n",
    "    \n",
    "    fig.add_trace(\n",
    "        go.Scatter(\n",
    "            x=stats_df.step,\n",
    "            y=stats_df.final_strategy_exploitability,\n",
    "            mode='lines',\n",
    "            name='current strategy exploitability',\n",
    "            line_width=0.8,\n",
    "        ))\n",
    "    \n",
    "    fig.add_trace(\n",
    "        go.Scatter(\n",
    "            x=stats_df.step,\n",
    "            y=stats_df.avg_strategy_exploitability,\n",
    "            mode='lines',\n",
    "            name='average strategy exploitability',\n",
    "            line_width=0.9,\n",
    "        ))\n",
    "    \n",
    "    fig.update_layout(\n",
    "        title_text=experiment_name,\n",
    "        yaxis=dict(\n",
    "            title='exploitability',\n",
    "            type='log',\n",
    "            showexponent='all',\n",
    "            exponentformat='e',\n",
    "            ticks='outside'\n",
    "        ),\n",
    "        xaxis=dict(\n",
    "            title='step',\n",
    "            ticks='outside',\n",
    "        ),\n",
    "    )\n",
    "    \n",
    "    return fig\n",
    "\n",
    "def get_dynamics_graph(experiment_name: str, stats_df: pd.DataFrame) -> go.Figure:\n",
    "    \n",
    "    fig, ax = plt.subplots(1, 1, figsize=(18,10))\n",
    "    ax.set_title(experiment_name)\n",
    "    ax.plot(stats_df.step, stats_df.final_strategy_exploitability, lw=0.9, label='Current Strategy')\n",
    "    ax.plot(stats_df.step, stats_df.avg_strategy_exploitability, label='Average Strategy')\n",
    "    \n",
    "    ax.set_yscale('log')\n",
    "    #ax.get_yaxis().set_major_formatter(matplotlib.ticker.ScalarFormatter())\n",
    "    ax.set_ylabel('step')\n",
    "    #ax.set_yticks([0.0, 0.01, 0.1, 0.2, 0.3, 0.5, 1.0, 1.5, 2.0])\n",
    "    #ax.set_yticks([0.01, 0.1, 0.2, 0.3, 0.5, 1.0, 1.5, 2.0])\n",
    "    ax.set_xlabel('exploitability')\n",
    "    ax.legend(loc='upper right')\n",
    "    ax.grid(True)\n",
    "    ax.grid(True, which='both', linestyle='--')\n",
    "    ax.set_ylim(\n",
    "        #max(0.01, 0.1 * stats_df.avg_strategy_exploitability.min()),\n",
    "        #0.1,\n",
    "        1.2 * max(stats_df.avg_strategy_exploitability.max(), stats_df.final_strategy_exploitability.max())\n",
    "    )\n",
    "    \n",
    "    #return fig"
   ]
  },
  {
   "cell_type": "code",
   "execution_count": null,
   "metadata": {},
   "outputs": [],
   "source": [
    "exp_name = 'goofspiel_4cards_no_entropy'\n",
    "exp_data = exp_df[exp_df.name == exp_name].sort_values(by='start_time', ascending=False).iloc[0]\n",
    "get_dynamics_graph(exp_name, exp_data.stats)\n",
    "plt.savefig(f'./plots/{exp_name}.png', dpi=300)"
   ]
  },
  {
   "cell_type": "code",
   "execution_count": null,
   "metadata": {},
   "outputs": [],
   "source": []
  },
  {
   "cell_type": "code",
   "execution_count": null,
   "metadata": {},
   "outputs": [],
   "source": []
  }
 ],
 "metadata": {
  "kernelspec": {
   "display_name": "Python (dlg)",
   "language": "python",
   "name": "fleam"
  },
  "language_info": {
   "codemirror_mode": {
    "name": "ipython",
    "version": 3
   },
   "file_extension": ".py",
   "mimetype": "text/x-python",
   "name": "python",
   "nbconvert_exporter": "python",
   "pygments_lexer": "ipython3",
   "version": "3.8.2"
  }
 },
 "nbformat": 4,
 "nbformat_minor": 2
}
